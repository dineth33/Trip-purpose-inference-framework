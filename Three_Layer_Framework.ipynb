{
 "cells": [
  {
   "cell_type": "markdown",
   "id": "cb344aa6",
   "metadata": {
    "tags": []
   },
   "source": [
    "# Three Layer Framework for Trip Purpose Inference \n",
    "<hr> "
   ]
  },
  {
   "cell_type": "markdown",
   "id": "e101b7e3",
   "metadata": {},
   "source": [
    "Trip purpose inference problem has not been thoroughly addressed in developing countries despite the fact that the applicability of a trip purpose inference model extremely depends on the land use context. \n",
    "\n",
    "Hence, this study attempted to ameliorate an accurate model (base model) based on taxi data collected for a selected area of a developing country and introduce a new model. \n",
    "\n",
    "The proposed model consists of three layers in which the first two layers align the model to the specified land use context. \n",
    "\n",
    "<b> Layer 1 </b> : Regular trip purpose identification \n",
    "    \n",
    "<b> Layer 2 </b> : Identifying trips attracted to residential places \n",
    "\n",
    "<b> Layer 3 </b> : Bayesian purpose inference (base model)  \n",
    "\n",
    "<b> Required Data </b> : Point of Intereset (POI) data, GPS (origin and destination) records of trips, Route network data.  \n",
    "\n",
    "<b> Additional Data </b> : \n",
    "\n",
    "Temporal impact data for Bayesian purpose inference (base model) [Click Here] </br>\n",
    "\n",
    "Opening times of the POIs [Click Here]"
   ]
  },
  {
   "cell_type": "markdown",
   "id": "620e34ca",
   "metadata": {
    "tags": []
   },
   "source": [
    "## Package Import "
   ]
  },
  {
   "cell_type": "code",
   "execution_count": 2,
   "id": "eb98a2ff",
   "metadata": {},
   "outputs": [],
   "source": [
    "# general packages \n",
    "import numpy as np \n",
    "import pandas as pd \n",
    "import geopandas as gpd \n",
    "from shapely.geometry import Point\n",
    "import shapely.speedups \n",
    "shapely.speedups.enable()\n",
    "import math \n",
    "from shapely.geometry import Polygon\n",
    "from collections import Counter"
   ]
  },
  {
   "cell_type": "code",
   "execution_count": 3,
   "id": "088076e3",
   "metadata": {},
   "outputs": [],
   "source": [
    "# ML packages \n",
    "from sklearn.cluster import KMeans\n",
    "from sklearn.preprocessing import StandardScaler\n",
    "from sklearn.cluster import DBSCAN"
   ]
  },
  {
   "cell_type": "code",
   "execution_count": 4,
   "id": "9c6aff1b",
   "metadata": {},
   "outputs": [],
   "source": [
    "# visualization packages\n",
    "import matplotlib.pyplot as plt \n",
    "import seaborn as sns"
   ]
  },
  {
   "cell_type": "code",
   "execution_count": 2,
   "id": "9e947db8",
   "metadata": {},
   "outputs": [],
   "source": [
    "# custom functions\n",
    "from Functions import linear_distance, bayesian_inference, candidate_poi_selection, regularity, regularity_inference, residential"
   ]
  },
  {
   "cell_type": "code",
   "execution_count": 5,
   "id": "e8f9f5f3",
   "metadata": {},
   "outputs": [],
   "source": [
    "# remove the default='warns'\n",
    "pd.options.mode.chained_assignment = None "
   ]
  },
  {
   "cell_type": "code",
   "execution_count": 3,
   "id": "18e09fe0",
   "metadata": {},
   "outputs": [],
   "source": [
    "# autocompletion magic command \n",
    "%config Completer.use_jedi = False"
   ]
  },
  {
   "cell_type": "markdown",
   "id": "92bc0b5b",
   "metadata": {
    "tags": []
   },
   "source": [
    "## Data Import "
   ]
  },
  {
   "cell_type": "markdown",
   "id": "5ab4ad64",
   "metadata": {
    "tags": []
   },
   "source": [
    "### Places (POI) data"
   ]
  },
  {
   "cell_type": "code",
   "execution_count": 23,
   "id": "f131fe79",
   "metadata": {},
   "outputs": [
    {
     "data": {
      "text/plain": [
       "array(['recreational', 'personal', 'medical', 'shopping', 'dining',\n",
       "       'education', 'home', 'transit'], dtype=object)"
      ]
     },
     "execution_count": 23,
     "metadata": {},
     "output_type": "execute_result"
    }
   ],
   "source": [
    "places['purpose'].unique()"
   ]
  },
  {
   "cell_type": "code",
   "execution_count": 12,
   "id": "9517f772",
   "metadata": {
    "tags": []
   },
   "outputs": [
    {
     "name": "stderr",
     "output_type": "stream",
     "text": [
      "C:\\Users\\HP\\anaconda3\\envs\\GEO_NEW\\lib\\site-packages\\IPython\\core\\interactiveshell.py:3165: DtypeWarning: Columns (12) have mixed types.Specify dtype option on import or set low_memory=False.\n",
      "  has_raised = await self.run_ast_nodes(code_ast.body, cell_name,\n"
     ]
    }
   ],
   "source": [
    "# Prepare the POI data \n",
    "places = pd.read_csv('POI_data.csv',index_col = 0)\n",
    "places = places[['clean_name','lat','lng','type_1','no_of_ratings','avg_rating','purpose','Type']]"
   ]
  },
  {
   "cell_type": "code",
   "execution_count": 13,
   "id": "c934b96d",
   "metadata": {},
   "outputs": [],
   "source": [
    "# places gpd creation \n",
    "geometry = [Point(xy) for xy in zip(places.lng, places.lat)]\n",
    "placesgpd  = gpd.GeoDataFrame(places, crs=\"EPSG:4326\", geometry=geometry)\n",
    "placesgpd.crs = \"EPSG:4326\""
   ]
  },
  {
   "cell_type": "markdown",
   "id": "4d823bb4",
   "metadata": {
    "tags": []
   },
   "source": [
    "### Taxi trips "
   ]
  },
  {
   "cell_type": "code",
   "execution_count": 15,
   "id": "75e08b55",
   "metadata": {},
   "outputs": [],
   "source": [
    "# import trip data\n",
    "taxitrips = pd.read_csv('Taxi_trip_data.csv', index_col = 0, parse_dates = [11,12,13])\n",
    "taxitrips = taxitrips[['trip_id', 'passenger_id', 'pickup_lat', 'pickup_long', 'dropoff_lat', 'dropoff_long', 'actual_pickup_time','pickup_time','drop_time']]\n",
    "\n",
    "# optimize the data types \n",
    "taxitrips['trip_id'] = taxitrips ['trip_id'].astype(np.int32)\n",
    "taxitrips[['pickup_lat', 'pickup_long', 'dropoff_lat', 'dropoff_long']] = taxitrips[['pickup_lat', 'pickup_long', 'dropoff_lat', 'dropoff_long']].astype(np.float32)"
   ]
  },
  {
   "cell_type": "markdown",
   "id": "b395d86e",
   "metadata": {},
   "source": [
    "### Route network"
   ]
  },
  {
   "cell_type": "code",
   "execution_count": 17,
   "id": "7758d188",
   "metadata": {},
   "outputs": [],
   "source": [
    "# importing and filtering out the roads within the colombo district \n",
    "slroads = gpd.read_file('Road network\\\\hotosm_lka_roads_lines.shp',crs = {'init': 'epsg:4326'})\n",
    "sri_lanka = gpd.read_file('Land area\\lka_admbnda_adm2_slsd_20200305.shp',crs = {'init': 'epsg:4326'})\n",
    "colombo = sri_lanka[sri_lanka['ADM2_EN']=='Colombo']\n",
    "colombo.reset_index(drop=True, inplace=True)\n",
    "mask = slroads.within(colombo.loc[0,'geometry'])\n",
    "colomboroads = slroads.loc[mask]"
   ]
  },
  {
   "cell_type": "markdown",
   "id": "011b530f",
   "metadata": {},
   "source": [
    "### Inputs for baysean model "
   ]
  },
  {
   "cell_type": "code",
   "execution_count": 18,
   "id": "40f3a72c",
   "metadata": {},
   "outputs": [],
   "source": [
    "# for the baysean inference \n",
    "# huanggrid \n",
    "huanggrid = pd.read_csv('Additional data\\HuangGrid.csv',index_col = 0, parse_dates = [0])\n",
    "huanggrid.columns = huanggrid.columns.str.replace(' ', '')\n",
    "huanggrid['Day'] = huanggrid['Day'].str.replace(' ', '')\n",
    "\n",
    "# time df \n",
    "time_df = pd.read_csv('Additional data\\POI_opening_times.csv',index_col=0)\n",
    "time_df.columns = time_df.columns.str.replace(' ', '')"
   ]
  },
  {
   "cell_type": "markdown",
   "id": "18523eff",
   "metadata": {
    "tags": []
   },
   "source": [
    "## Layer 1 : Regular trip purpose identification "
   ]
  },
  {
   "cell_type": "markdown",
   "id": "346fcb54",
   "metadata": {},
   "source": [
    "Imputation of the trip purpose of commuters who regularly travel between identical locations is considered in the first layer. Density-Based Spatial Clustering of Applications with Noise (DBSCAN) is used to identify the spatial clusters of Pick-Up Points (PUP) and Drop Off Points (DOP) of passenger taxi trips and the defined time bins are utilized to add the temporal frames to select regular trips intended for a purpose. Two scenarios (1) round trips, and (2) onward trips are identified from this, and the purposes are imputed considering the selected time bins for selected purposes. "
   ]
  },
  {
   "cell_type": "markdown",
   "id": "10100f59",
   "metadata": {},
   "source": [
    "### Identifying the regular passengers (commuters)"
   ]
  },
  {
   "cell_type": "code",
   "execution_count": 191,
   "id": "e0b36d78",
   "metadata": {},
   "outputs": [],
   "source": [
    "# filter out weekday trips \n",
    "taxitrips['day'] = taxitrips['drop_time'].dt.day_of_week\n",
    "taxitrips_weekday = taxitrips[taxitrips['day'].isin([0,1,2,3,4])]\n",
    "\n",
    "# select the passengers with trips more than the defined number. \n",
    "minimum_days = 2\n",
    "regular_passengers = np.array(taxitrips_weekday.groupby('passenger_id').filter(lambda group: group['day'].count() > minimum_days )['passenger_id'])\n",
    "regular_passengers = np.unique(regular_passengers)"
   ]
  },
  {
   "cell_type": "code",
   "execution_count": 192,
   "id": "0c142c1d",
   "metadata": {},
   "outputs": [
    {
     "data": {
      "text/plain": [
       "7605"
      ]
     },
     "execution_count": 192,
     "metadata": {},
     "output_type": "execute_result"
    }
   ],
   "source": [
    "len(regular_passengers)"
   ]
  },
  {
   "cell_type": "markdown",
   "id": "743f3549",
   "metadata": {},
   "source": [
    "There could be passengers with substantially higher number of trips which might be an error of the passenger_id attribute itself. Hence, it is required to remove such passengers from the identified regular passengers. "
   ]
  },
  {
   "cell_type": "code",
   "execution_count": 32,
   "id": "cd8a1863",
   "metadata": {},
   "outputs": [],
   "source": [
    "# check for any abnormal passengers \n",
    "abnormal = []\n",
    "for passenger in regular_passengers:\n",
    "    if taxitrips[taxitrips['passenger_id'] == passenger].shape[0] > 100:\n",
    "        abnormal.append(passenger)\n",
    "        \n",
    "regular_passengers = np.delete(regular_passengers, np.where(regular_passengers == abnormal[0])[0][0])"
   ]
  },
  {
   "cell_type": "code",
   "execution_count": 103,
   "id": "517c09f6",
   "metadata": {},
   "outputs": [
    {
     "data": {
      "text/plain": [
       "(32784,)"
      ]
     },
     "execution_count": 103,
     "metadata": {},
     "output_type": "execute_result"
    }
   ],
   "source": [
    "regular_passengers.shape"
   ]
  },
  {
   "cell_type": "markdown",
   "id": "ec4ea92e",
   "metadata": {
    "tags": []
   },
   "source": [
    "### Inferring the regular trip purposes"
   ]
  },
  {
   "cell_type": "code",
   "execution_count": 222,
   "id": "4e71f9ff",
   "metadata": {
    "tags": []
   },
   "outputs": [],
   "source": [
    "minimum_days = 2\n",
    "purpose_identified_regular_trips = pd.DataFrame(columns = taxitrips.columns)\n",
    "passengers_without_clusters = []\n",
    "\n",
    "# assign variable for counting (additional)\n",
    "no_cluster = 0\n",
    "time_bin_missed = 0 \n",
    "od_pair_missed = 0\n",
    "od_pair_time_bin_missed = 0\n",
    "onward_indices_check = 0\n",
    "poi_missing = 0 \n",
    "onward_trip_count = 0 \n",
    "round_trip_count = 0 \n",
    "\n",
    "for passenger in regular_passengers:\n",
    "    \n",
    "    passenger_data = taxitrips_weekday[taxitrips_weekday['passenger_id'] == passenger].reset_index() # df reseted indices will be used throughout the analysis\n",
    "    \n",
    "    origin_labels, destination_labels = regularity.dbscan_clustering(passenger_data[['pickup_lat', 'pickup_long']], passenger_data[['dropoff_lat', 'dropoff_long']], min_trips = minimum_days)\n",
    "    \n",
    "    # terminate if there are no clusters (all the labels are -1)\n",
    "    if destination_labels.sum()/destination_labels.shape[0] == -1:\n",
    "        no_cluster  = no_cluster + 1\n",
    "        continue \n",
    "    \n",
    "    # time bin compatibility assessment  \n",
    "    regular_purposes = regularity.time_check(passenger_data, destination_labels, minium_match = minimum_days, work1 = [6,10], work2 = [12,14], education = [6,10])\n",
    "    regular_purposes_keys = list(regular_purposes.keys()) \n",
    "    regular_purposes_values = list(regular_purposes.values())      \n",
    "    \n",
    "    time_matched_clusters = [x for x in regular_purposes_values if x>=1] \n",
    "\n",
    "    # terminate the processessing if 1.) no clusters (0), 2. time bins doesnt match(), 3. user has two different locations(>1) for a single time bin   \n",
    "    if len(time_matched_clusters) != 1: \n",
    "            time_bin_missed = time_bin_missed + 1\n",
    "            continue \n",
    "    else:\n",
    "        time_bin_purpose = time_matched_clusters[0]\n",
    "                     \n",
    "    # od pair compatibility assessment \n",
    "    matched_indices = regularity.od_pair_check(origin_labels, destination_labels, minimum_match = minimum_days)\n",
    "    if len(matched_indices) == 0:\n",
    "            od_pair_missed = od_pair_missed + 1 \n",
    "            continue \n",
    "            \n",
    "    # check whether the time bined cluster has a matched od pair\n",
    "    matched_onward_cluster = regular_purposes_keys[regular_purposes_values.index(time_matched_clusters[0])]\n",
    "    \n",
    "    if matched_onward_cluster in list(matched_indices.keys()):\n",
    "        onward_indices = matched_indices[regular_purposes_keys[regular_purposes_values.index(time_matched_clusters[0])]]\n",
    "    \n",
    "    else:\n",
    "        od_pair_time_bin_missed = od_pair_time_bin_missed + 1\n",
    "        continue \n",
    "    \n",
    "    # check for the minimum regularity again \n",
    "    if len(onward_indices) < minimum_days:\n",
    "        onward_indices_check = onward_indices_check + 1 \n",
    "        continue \n",
    "        \n",
    "    # variable selection for candiate poi selection \n",
    "    latitude = passenger_data.loc[onward_indices,'dropoff_lat'].mean()\n",
    "    longitude = passenger_data.loc[onward_indices, 'dropoff_long'].mean()\n",
    "    drop_time =  passenger_data.loc[onward_indices[0], 'drop_time'] # takes only one as its already on the bins \n",
    "        \n",
    "    # candidate poi selection    \n",
    "    candidate_pois = candidate_poi_selection(placesgpd, latitude , longitude , drop_time, time_df, walking_radius = 150)\n",
    "                \n",
    "    if candidate_pois.shape[0] == 0: \n",
    "        poi_missing  = poi_missing + 1 \n",
    "    \n",
    "    # purpose assignment    \n",
    "    # check for round trips \n",
    "    if len(matched_indices) >= 2:\n",
    "        round_trip, return_indices  = regularity_inference.return_trip_check(onward_indices, passenger_data, matched_indices)\n",
    "        \n",
    "        # Scenario 1 (Round trip)\n",
    "        if round_trip == True:\n",
    "            round_trip_count = round_trip_count + 1 \n",
    "            passenger_data = regularity_inference.round_trip_purpose_inference(candidate_pois, onward_indices, return_indices, time_bin_purpose, passenger_data)\n",
    "            \n",
    "        # Scenario 2 (onward trip)\n",
    "        else:\n",
    "            passenger_data = regularity_inference.onward_trip_purpose_inference(candidate_pois, onward_indices, time_bin_purpose, passenger_data)\n",
    "            onward_trip_count = onward_trip_count + 1 \n",
    "            \n",
    "    # Scenario 2 (onward trip)\n",
    "    else:\n",
    "        passenger_data = regularity_inference.onward_trip_purpose_inference(candidate_pois, onward_indices, time_bin_purpose, passenger_data)\n",
    "        onward_trip_count = onward_trip_count + 1 \n",
    "        \n",
    "    passenger_data = passenger_data.set_index('index') # required with the appending \n",
    "        \n",
    "    purpose_identified_regular_trips = purpose_identified_regular_trips.append(passenger_data)    "
   ]
  },
  {
   "cell_type": "code",
   "execution_count": null,
   "id": "da145226",
   "metadata": {},
   "outputs": [],
   "source": [
    "# summary details \n",
    "no_cluster, time_bin_missed , od_pair_missed, od_pair_time_bin_missed, onward_indices_check ,poi_missing, round_trip_count, onward_trip_count "
   ]
  },
  {
   "cell_type": "code",
   "execution_count": null,
   "id": "4c018c09",
   "metadata": {},
   "outputs": [],
   "source": [
    "# total regular pasengers vs the regular passengers with purpose imputed trips \n",
    "len(regular_passengers), len(purpose_identified_regular_trips['passenger_id'].unique())"
   ]
  },
  {
   "cell_type": "code",
   "execution_count": null,
   "id": "ff6a3202",
   "metadata": {},
   "outputs": [],
   "source": [
    "# drop the null rows \n",
    "\n",
    "print(purpose_identified_regular_trips['Trip purpose'].isna().sum())\n",
    "\n",
    "purpose_identified_regular_trips['Trip purpose'] = purpose_identified_regular_trips['Trip purpose'].fillna(value = 1)\n",
    "\n",
    "print(purpose_identified_regular_trips['Trip purpose'].isna().sum())"
   ]
  },
  {
   "cell_type": "code",
   "execution_count": null,
   "id": "ca5779ca",
   "metadata": {},
   "outputs": [],
   "source": [
    "# view the total number of imputed trips from layer 1 \n",
    "purpose_identified_regular_trips.shape"
   ]
  },
  {
   "cell_type": "code",
   "execution_count": null,
   "id": "3a4a36f6",
   "metadata": {},
   "outputs": [],
   "source": [
    "# trip count for purposes \n",
    "purpose_identified_regular_trips['Trip purpose'].value_counts()"
   ]
  },
  {
   "cell_type": "code",
   "execution_count": 208,
   "id": "0df7c9d1",
   "metadata": {},
   "outputs": [],
   "source": [
    "# convert the purpose numbers to names \n",
    "new_purposes = {1.0:'work',2.0:'education',0.0:'residential'}\n",
    "purpose_identified_regular_trips['Trip purpose'].replace(new_purposes, inplace = True)"
   ]
  },
  {
   "cell_type": "code",
   "execution_count": 210,
   "id": "05e3e011",
   "metadata": {},
   "outputs": [],
   "source": [
    "purpose_identified_regular_trips['Trip purpose'].replace({'educational':'education'}, inplace = True)"
   ]
  },
  {
   "cell_type": "code",
   "execution_count": 212,
   "id": "a8662ab7",
   "metadata": {},
   "outputs": [],
   "source": [
    "# save the file to feather. \n",
    "purpose_identified_regular_trips = purpose_identified_regular_trips.reset_index()\n",
    "purpose_identified_regular_trips['actual_pickup_time'] = pd.to_datetime(purpose_identified_regular_trips['actual_pickup_time'])\n",
    "purpose_identified_regular_trips['pickup_time'] = pd.to_datetime(purpose_identified_regular_trips['pickup_time'])\n",
    "purpose_identified_regular_trips['drop_time'] = pd.to_datetime(purpose_identified_regular_trips['drop_time'])\n",
    "\n",
    "purpose_identified_regular_trips.to_feather(\"Results\\1st_layer_output.feather\")"
   ]
  },
  {
   "cell_type": "markdown",
   "id": "5d21eb8c",
   "metadata": {
    "tags": []
   },
   "source": [
    "## Layer 2: Identifying trips attracted to residential places "
   ]
  },
  {
   "cell_type": "markdown",
   "id": "eed3f29d",
   "metadata": {},
   "source": [
    "- Houses are not included in the POI dataset. Neglecting this assign incorrect purpose for trip attracted to residential places. \n",
    "\n",
    "- Developed method is based on three assumptions!  <br/>\n",
    "    1. DOPs per day can’t be located as groups (clusters)/ daily <br/>\n",
    "    2. DOPs  shouldn’t locate with a very close proximity to the main road  <br/>\n",
    "    3. If the trips attracted away from main roads belongs to a POI, it should be within a very narrow distance i.e. 15m!"
   ]
  },
  {
   "cell_type": "markdown",
   "id": "a33977b5",
   "metadata": {
    "tags": []
   },
   "source": [
    "### 1. Filtering the grouped DOPs"
   ]
  },
  {
   "cell_type": "markdown",
   "id": "f8c8ef51",
   "metadata": {},
   "source": [
    "According to the first assumption, the DBSCAN algorithm is used to identify the groups of taxi DOPs. Then those groups are removed and the only the outliers are kept.\n",
    "\n",
    "Note : This analysis is done based on data for a single day. Because when dealing with data for a period of time, definetly there could be groups when the passengers are using the service to fulfill the mandatory activities "
   ]
  },
  {
   "cell_type": "markdown",
   "id": "36d6e993",
   "metadata": {},
   "source": [
    "### 2. Filtering DOPs closer to main roads"
   ]
  },
  {
   "cell_type": "markdown",
   "id": "151b8661",
   "metadata": {},
   "source": [
    "Before going to removal of drop off points near to the roads, we have to go calculate the distance that each drop off point has from the nearest main road. "
   ]
  },
  {
   "cell_type": "markdown",
   "id": "adaf4065",
   "metadata": {},
   "source": [
    "With that we can go for the clustering, just like before the number of is determined not only by referring the elbow, but also considering the maximum of the distances  get from the clusters. "
   ]
  },
  {
   "cell_type": "markdown",
   "id": "3b30d2ff",
   "metadata": {},
   "source": [
    "### 3. Filtering the trips attracted to POIs"
   ]
  },
  {
   "cell_type": "markdown",
   "id": "4fe1b401",
   "metadata": {
    "tags": []
   },
   "source": [
    "If the trip had attracted to a normal place instead of a residential place, it is assumed that a POI must stay within a radius of 15m. (a simple rule). This is because in the residential areas in general, there is less difficulty to stop nearly to a place.  "
   ]
  },
  {
   "cell_type": "markdown",
   "id": "03750165",
   "metadata": {
    "tags": []
   },
   "source": [
    "### Imputing trips attracted to residential places "
   ]
  },
  {
   "cell_type": "code",
   "execution_count": 22,
   "id": "5247efb9",
   "metadata": {},
   "outputs": [],
   "source": [
    "taxitrips_after_regular_inference = taxitrips.loc[taxitrips.index.difference(purpose_identified_regular_trips.index)]"
   ]
  },
  {
   "cell_type": "code",
   "execution_count": 87,
   "id": "8ce9efc8",
   "metadata": {
    "tags": []
   },
   "outputs": [],
   "source": [
    "## identification of trips attracted to the residential places \n",
    "\n",
    "# removal of trips that has clustered DOPs. \n",
    "possible_home, taxi_data =   residential.clustered_trip_removal(taxitrips_after_regular_inference, allowable_dops = 2)\n",
    "\n",
    "# removal of trips closer to the main roads \n",
    "possible_home =   residential.min_road_distance_measure(possible_home,colomboroads)\n",
    "\n",
    "# distance based clustering \n",
    "possible_home_selected, possible_home_before_selection = residential.distance_based_trip_removal(possible_home, clusters = 15, n_clusters_toremove = 1)\n",
    "\n",
    "# remove the pois with closer POIs\n",
    "actual_home_selected = residential.poi_existance_removal(possible_home_selected, placesgpd, allowable_distance = 10)"
   ]
  },
  {
   "cell_type": "code",
   "execution_count": 179,
   "id": "eef8fced",
   "metadata": {},
   "outputs": [],
   "source": [
    "# save the file to feather. \n",
    "actual_home_selected = actual_home_selected.reset_index()\n",
    "actual_home_selected['actual_pickup_time'] = pd.to_datetime(actual_home_selected['actual_pickup_time'])\n",
    "actual_home_selected['pickup_time'] = pd.to_datetime(actual_home_selected['pickup_time'])\n",
    "actual_home_selected['drop_time'] = pd.to_datetime(actual_home_selected['drop_time'])\n",
    "\n",
    "actual_home_selected.to_feather(\"Results\\\\2nd_layer_output.feather\")"
   ]
  },
  {
   "cell_type": "markdown",
   "id": "2f2bcdcd",
   "metadata": {
    "tags": []
   },
   "source": [
    "## Layer 3: Baysean purpose inference  "
   ]
  },
  {
   "cell_type": "code",
   "execution_count": 106,
   "id": "b4544a30",
   "metadata": {},
   "outputs": [],
   "source": [
    "# select the required trips for which the purpose inference is required form baysean model  \n",
    "taxitrips_to_baysean_inference = taxitrips_after_regular_inference.loc[taxitrips_after_regular_inference.index.difference(actual_home_selected.index)]"
   ]
  },
  {
   "cell_type": "code",
   "execution_count": 109,
   "id": "2135c890",
   "metadata": {},
   "outputs": [],
   "source": [
    "# array to collect the results \n",
    "trip_purposes = np.array([])\n",
    "\n",
    "for row in taxitrips_to_baysean_inference.itertuples():\n",
    "    \n",
    "    # candidate poi selection \n",
    "    candidate_pois = candidate_poi_selection(placesgpd, row.dropoff_lat, row.dropoff_long, row.drop_time, time_df, walking_radius = 100)\n",
    "    \n",
    "    # baysean inference \n",
    "    Trip_purpose = baysean_inference(candidate_pois, row.dropoff_lat, row.dropoff_long, row.drop_time, huanggrid)\n",
    "    \n",
    "    # collect the results for an array \n",
    "    trip_purposes = np.append(trip_purposes, Trip_purpose)\n",
    "\n",
    "# attach to the dataframe     \n",
    "taxitrips_to_baysean_inference['Trip purpose'] = trip_purposes"
   ]
  },
  {
   "cell_type": "code",
   "execution_count": 118,
   "id": "246e61aa",
   "metadata": {},
   "outputs": [],
   "source": [
    "# save the file to feather. \n",
    "taxitrips_to_baysean_inference = taxitrips_to_baysean_inference.reset_index()\n",
    "taxitrips_to_baysean_inference['actual_pickup_time'] = pd.to_datetime(taxitrips_to_baysean_inference['actual_pickup_time'])\n",
    "taxitrips_to_baysean_inference['pickup_time'] = pd.to_datetime(taxitrips_to_baysean_inference['pickup_time'])\n",
    "taxitrips_to_baysean_inference['drop_time'] = pd.to_datetime(taxitrips_to_baysean_inference['drop_time'])\n",
    "\n",
    "taxitrips_to_baysean_inference.to_feather(\"Results\\\\3rd_layer_output.feather\")"
   ]
  },
  {
   "cell_type": "markdown",
   "id": "65aebccb",
   "metadata": {
    "tags": []
   },
   "source": [
    "## Merging the results of three layers"
   ]
  },
  {
   "cell_type": "markdown",
   "id": "93059ec9",
   "metadata": {},
   "source": [
    "<div class=\"alert alert-block alert-warning\">\n",
    "<b> FINAL MERGING :</b> append the dataframes with trip purposes in all three levels\n",
    "</div>"
   ]
  },
  {
   "cell_type": "code",
   "execution_count": 34,
   "id": "88a78475",
   "metadata": {
    "tags": []
   },
   "outputs": [],
   "source": [
    "purpose_identified_regular_trips = pd.read_feather(\"1st_layer_output.feather\")\n",
    "actual_home_selected = pd.read_feather(\"2nd_layer_output.feather\")\n",
    "taxitrips_to_baysean_inference = pd.read_feather(\"3rd_layer_output.feather\")"
   ]
  },
  {
   "cell_type": "code",
   "execution_count": 28,
   "id": "ff75ec1a",
   "metadata": {
    "tags": []
   },
   "outputs": [],
   "source": [
    "#column name mismatch solve \n",
    "actual_home_selected.rename(columns= {'trip_id2':'trip_id'}, inplace = True)\n",
    "taxitrips_to_baysean_inference.rename(columns = {'index':'trip_id'}, inplace = True)\n",
    "\n",
    "# regular trips columns\n",
    "required_columns = ['trip_id','passenger_id', 'pickup_lat',\n",
    "       'pickup_long', 'dropoff_lat', 'dropoff_long', 'actual_pickup_time',\n",
    "       'pickup_time', 'drop_time',  'Trip purpose' ]\n",
    "\n",
    "purpose_identified_regular_trips = purpose_identified_regular_trips[required_columns]\n",
    "actual_home_selected = actual_home_selected[required_columns]\n",
    "taxitrips_to_baysean_inference = taxitrips_to_baysean_inference[required_columns]"
   ]
  },
  {
   "cell_type": "code",
   "execution_count": 29,
   "id": "86dc3753",
   "metadata": {},
   "outputs": [],
   "source": [
    "taxitrips_to_baysean_inference['Trip purpose'].replace({'home':'residential'}, inplace = True)"
   ]
  },
  {
   "cell_type": "code",
   "execution_count": 30,
   "id": "eb895b83",
   "metadata": {},
   "outputs": [],
   "source": [
    "taxitrips_with_purpose = purpose_identified_regular_trips.append(actual_home_selected).append(taxitrips_to_baysean_inference)"
   ]
  },
  {
   "cell_type": "code",
   "execution_count": 31,
   "id": "0eedc443",
   "metadata": {},
   "outputs": [
    {
     "data": {
      "text/plain": [
       "<AxesSubplot:>"
      ]
     },
     "execution_count": 31,
     "metadata": {},
     "output_type": "execute_result"
    },
    {
     "data": {
      "image/png": "[encoded data removed]",
      "text/plain": [
       "<Figure size 432x288 with 1 Axes>"
      ]
     },
     "metadata": {
      "needs_background": "light"
     },
     "output_type": "display_data"
    }
   ],
   "source": [
    "taxitrips_with_purpose['Trip purpose'].value_counts().plot(kind='bar')"
   ]
  },
  {
   "cell_type": "code",
   "execution_count": 33,
   "id": "e514f3f6",
   "metadata": {},
   "outputs": [],
   "source": [
    "# save the file to feather. \n",
    "taxitrips_with_purpose = taxitrips_with_purpose.reset_index(drop = True)\n",
    "taxitrips_with_purpose['actual_pickup_time'] = pd.to_datetime(taxitrips_with_purpose['actual_pickup_time'])\n",
    "taxitrips_with_purpose['pickup_time'] = pd.to_datetime(taxitrips_with_purpose['pickup_time'])\n",
    "taxitrips_with_purpose['drop_time'] = pd.to_datetime(taxitrips_with_purpose['drop_time'])\n",
    "\n",
    "taxitrips_with_purpose.to_feather(r\"C:\\Users\\HP\\Desktop\\Projects\\Trip purpose\\\\Three layer framework for purpose inference\\\\complete_output.feather\")"
   ]
  },
  {
   "cell_type": "code",
   "execution_count": 6,
   "id": "e574b436",
   "metadata": {},
   "outputs": [],
   "source": [
    "taxitrips_with_purpose = pd.read_feather(r\"C:\\Users\\HP\\Desktop\\Projects\\Trip purpose\\\\Three layer framework for purpose inference\\\\complete_output.feather\")"
   ]
  },
  {
   "cell_type": "markdown",
   "id": "903bc2cb",
   "metadata": {
    "tags": []
   },
   "source": [
    "## EDA"
   ]
  },
  {
   "cell_type": "markdown",
   "id": "c7552aac",
   "metadata": {},
   "source": [
    "visualizing the clustered and individual dops in residential trip identification "
   ]
  },
  {
   "cell_type": "code",
   "execution_count": null,
   "id": "760c03fc",
   "metadata": {
    "tags": []
   },
   "outputs": [],
   "source": [
    "# stacked bar chart for daily distribution of trips \n",
    "\n",
    "# colors for purposes \n",
    "purpose_colors = {'education':'#916B01',\n",
    "                  'work':'#4D949A', \n",
    "                  'residential': '#0F5512',\n",
    "                  'medical': '#9B0000',\n",
    "                  'recreational': '#009590' ,\n",
    "                  'personal': '#70004B',\n",
    "                  'shopping': '#878300',\n",
    "                  'dining':'#C43B00', \n",
    "                  'multiple': '#000000',\n",
    "                  'NA' : '#4D4D4D',\n",
    "                  'transit' : '#CE4E4F'\n",
    "                    }\n",
    "\n",
    "x_values = ['Monday','Tuesday','Wednesday','Thursday','Friday','Saturday', 'Sunday']\n",
    "width = 0.35       # the width of the bars: can also be len(x) sequence\n",
    "\n",
    "fig, ax = plt.subplots()\n",
    "\n",
    "purpose_groups = taxitrips_with_purpose.groupby('Trip purpose')\n",
    "purposes = taxitrips_with_purpose['Trip purpose'].unique()\n",
    "\n",
    "y_values_dict = {}\n",
    "\n",
    "for purpose in purposes:\n",
    "    \n",
    "    purpose_df = purpose_groups.get_group(purpose).groupby('day').size().reset_index().set_index('day')\n",
    "    y_values = [purpose_df.loc['Monday'].values[0], purpose_df.loc['Tuesday'].values[0], purpose_df.loc['Wednesday'].values[0], purpose_df.loc['Thursday'].values[0], purpose_df.loc['Friday'].values[0],  purpose_df.loc['Saturday'].values[0], purpose_df.loc['Sunday'].values[0]]\n",
    "    y_values_dict[purpose] = y_values\n",
    "    \n",
    "# convert the dictionary keys to variables \n",
    "locals().update(y_values_dict)\n",
    "    \n",
    "# for purpose in purposes: \n",
    "bottom_raw = np.array([0,0,0,0,0,0,0])\n",
    "\n",
    "for key in y_values_dict:\n",
    "    \n",
    "    ax.bar(x_values , y_values_dict[key], width, label = key, bottom = bottom_raw, color = purpose_colors[key])\n",
    "    \n",
    "    bottom_raw = bottom_raw + np.array(y_values_dict[key])\n",
    "\n",
    "ax.set_ylabel('Count')\n",
    "ax.legend(loc=0, bbox_to_anchor=(1, 1))\n",
    "ax.set_xticklabels(x_values, rotation = 20)\n",
    "\n",
    "\n",
    "plt.savefig(r\"C:\\Users\\HP\\Desktop\\Projects\\Trip purpose\\\\Three layer framework for purpose inference\\\\output_complete.jpg\", dpi = 300, bbox_inches = 'tight')"
   ]
  },
  {
   "cell_type": "code",
   "execution_count": null,
   "id": "5cd0ed22",
   "metadata": {},
   "outputs": [],
   "source": []
  }
 ],
 "metadata": {
  "kernelspec": {
   "display_name": "Python 3",
   "language": "python",
   "name": "python3"
  },
  "language_info": {
   "codemirror_mode": {
    "name": "ipython",
    "version": 3
   },
   "file_extension": ".py",
   "mimetype": "text/x-python",
   "name": "python",
   "nbconvert_exporter": "python",
   "pygments_lexer": "ipython3",
   "version": "3.8.8"
  },
  "toc-autonumbering": false
 },
 "nbformat": 4,
 "nbformat_minor": 5
}
